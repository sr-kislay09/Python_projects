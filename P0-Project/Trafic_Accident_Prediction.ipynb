{
 "cells": [
  {
   "cell_type": "code",
   "execution_count": 5,
   "id": "91a3349f-d1ed-4eb1-a4e4-08dd0244f911",
   "metadata": {},
   "outputs": [],
   "source": [
    "# Traffic Accident Analysis and Prediction\n",
    "\n",
    "\n",
    "import pandas as pd\n",
    "import seaborn as sns\n",
    "import matplotlib.pyplot as plt\n"
   ]
  },
  {
   "cell_type": "code",
   "execution_count": 56,
   "id": "5e7d980c-39d4-481f-ab34-a6e91a15d4cd",
   "metadata": {},
   "outputs": [
    {
     "name": "stdout",
     "output_type": "stream",
     "text": [
      "['.anaconda', '.bash_history', '.cache', '.conda', '.condarc', '.config', '.continuum', '.emulator_console_auth_token', '.git', '.gitconfig', '.gitignore', '.gnutls', '.gradle', '.idea', '.ipynb_checkpoints', '.ipython', '.jdks', '.jupyter', '.keras', '.m2', '.matplotlib', '.ms-ad', '.nbi', '.netbeans-derby', '.node_repl_history', '.opera', '.redhat', '.thumbnails', '.virtual_documents', '.vscode', '.vscode-R', '345', '3D Objects', '890', 'ActivityLayouts', 'Amazon_Clone_Project', 'AndriodCode', 'AndroidCode', 'AndroidStudioProjects', 'app', 'AppData', 'Application Data', 'Casualties.csv', 'Contacts', 'Cookies', 'custom.css', 'data', 'Demo', 'Documents', 'Downloads', 'Favorites', 'git', 'htmll.html', 'index.html', 'java_error_in_studio64.hprof', 'kislay.wav', 'Links', 'Local Settings', 'local.properties', 'MicrosoftEdgeBackups', 'Music', 'My Documents', 'NetHood', 'NTUSER.DAT', 'ntuser.dat.LOG1', 'ntuser.dat.LOG2', 'NTUSER.DAT{dcf7e46f-52d4-11ec-8118-8b57a4f2d403}.TM.blf', 'NTUSER.DAT{dcf7e46f-52d4-11ec-8118-8b57a4f2d403}.TMContainer00000000000000000001.regtrans-ms', 'NTUSER.DAT{dcf7e46f-52d4-11ec-8118-8b57a4f2d403}.TMContainer00000000000000000002.regtrans-ms', 'ntuser.ini', 'OneDrive', 'Pictures', 'Practise.java', 'PrintHood', 'project.html', 'Quiz-App.html', 'quiz.css', 'quiz.html', 'quiz.js', 'Recent', 'Saved Games', 'script.js', 'Searches', 'SendTo', 'Start Menu', 'Templates', 'Trafic_Accident_Prediction.ipynb', 'trained_model.pkl', 'Untitled-1.txt', 'Untitled.ipynb', 'Videos']\n"
     ]
    }
   ],
   "source": [
    "import os\n",
    "print(os.listdir('.'))\n"
   ]
  },
  {
   "cell_type": "code",
   "execution_count": null,
   "id": "4986f8c7-a069-4831-a798-95d8962116c2",
   "metadata": {},
   "outputs": [],
   "source": []
  },
  {
   "cell_type": "code",
   "execution_count": 2,
   "id": "9e3bf14c-c56f-43c1-b2a1-bfd4345c84ca",
   "metadata": {
    "scrolled": true
   },
   "outputs": [
    {
     "ename": "NameError",
     "evalue": "name 'pd' is not defined",
     "output_type": "error",
     "traceback": [
      "\u001b[1;31m---------------------------------------------------------------------------\u001b[0m",
      "\u001b[1;31mNameError\u001b[0m                                 Traceback (most recent call last)",
      "Cell \u001b[1;32mIn[2], line 1\u001b[0m\n\u001b[1;32m----> 1\u001b[0m df \u001b[38;5;241m=\u001b[39m \u001b[43mpd\u001b[49m\u001b[38;5;241m.\u001b[39mread_csv(\u001b[38;5;124m'\u001b[39m\u001b[38;5;124mdata/Casualties.csv\u001b[39m\u001b[38;5;124m'\u001b[39m)\n\u001b[0;32m      2\u001b[0m df\u001b[38;5;241m.\u001b[39mhead(\u001b[38;5;241m20\u001b[39m)\n",
      "\u001b[1;31mNameError\u001b[0m: name 'pd' is not defined"
     ]
    }
   ],
   "source": [
    "df = pd.read_csv('data/Casualties.csv')\n",
    "df.head(20)\n"
   ]
  },
  {
   "cell_type": "code",
   "execution_count": null,
   "id": "4088fbe9-aa7b-4e8d-a33f-dc0232ebbec3",
   "metadata": {},
   "outputs": [],
   "source": [
    "df.describe()\n",
    "df.info()\n"
   ]
  },
  {
   "cell_type": "code",
   "execution_count": null,
   "id": "5de91178-40d7-4843-96a9-9c48f03265e5",
   "metadata": {},
   "outputs": [],
   "source": [
    "df.isnull().sum()\n"
   ]
  },
  {
   "cell_type": "code",
   "execution_count": null,
   "id": "b86ad458-cd20-44e3-b27d-43c4b3149877",
   "metadata": {},
   "outputs": [],
   "source": [
    "# Distribution of a feature\n",
    "sns.histplot(df['Accident_Index'])\n",
    "plt.show()\n",
    "\n"
   ]
  },
  {
   "cell_type": "code",
   "execution_count": null,
   "id": "e2a29476-d2a8-4c21-a6a2-6f00c4302f19",
   "metadata": {},
   "outputs": [],
   "source": []
  },
  {
   "cell_type": "code",
   "execution_count": null,
   "id": "e7c1d7a5-2ba3-4c2a-927e-9b750a8c983f",
   "metadata": {},
   "outputs": [],
   "source": [
    "# Boxplot of features\n",
    "sns.boxplot(x='Accident_Index', y='Casualty_Class', data=df)\n",
    "plt.show()\n"
   ]
  },
  {
   "cell_type": "code",
   "execution_count": null,
   "id": "01fa6a8b-7659-483e-9d65-e3453273d7b5",
   "metadata": {},
   "outputs": [],
   "source": [
    "# Identify numeric columns\n",
    "numeric_columns = df.select_dtypes(include=['number']).columns\n",
    "\n",
    "# Fill missing values in numeric columns with their mean\n",
    "df=df[numeric_columns] = df[numeric_columns].fillna(df[numeric_columns].mean())"
   ]
  },
  {
   "cell_type": "code",
   "execution_count": null,
   "id": "03eb788f-8942-436f-b9bb-1c43094dc2ac",
   "metadata": {},
   "outputs": [],
   "source": [
    "df"
   ]
  },
  {
   "cell_type": "code",
   "execution_count": null,
   "id": "079d3f76-5d1f-479a-bf8e-ca953cc870f4",
   "metadata": {},
   "outputs": [],
   "source": [
    "# Example: Creating a new feature\n",
    "df['new_feature'] = df['Casualty_Class'] / df['Age_of_Casualty']\n",
    "df['new_feature']\n",
    "\n",
    "\n"
   ]
  },
  {
   "cell_type": "code",
   "execution_count": null,
   "id": "257db4e1-0127-448c-8eac-2f9d32056522",
   "metadata": {},
   "outputs": [],
   "source": [
    "from sklearn.model_selection import train_test_split\n",
    "from sklearn.ensemble import RandomForestClassifier\n",
    "from sklearn.metrics import accuracy_score\n",
    "import joblib\n"
   ]
  },
  {
   "cell_type": "code",
   "execution_count": null,
   "id": "90af8df7-a1d7-4a94-a0d4-f29bd34fc5d6",
   "metadata": {},
   "outputs": [],
   "source": [
    "from sklearn.model_selection import train_test_split\n",
    "X = df.drop('Age_of_Casualty', axis=1)\n",
    "y = df['Casualty_Reference']\n",
    "\n",
    "X_train, X_test, y_train, y_test = train_test_split(X, y, test_size=0.3, random_state=42)\n"
   ]
  },
  {
   "cell_type": "code",
   "execution_count": null,
   "id": "5401ab08-c037-44eb-97e9-9f68ad8779e4",
   "metadata": {},
   "outputs": [],
   "source": [
    "from sklearn.ensemble import RandomForestClassifier\n",
    "\n",
    "model = RandomForestClassifier()\n",
    "model.fit(X_train, y_train)\n"
   ]
  },
  {
   "cell_type": "code",
   "execution_count": null,
   "id": "6069ebee-38d6-4edd-83dc-46634af23674",
   "metadata": {},
   "outputs": [],
   "source": [
    "from sklearn.metrics import accuracy_score\n",
    "y_pred = model.predict(X_test)\n",
    "print('Accuracy:', accuracy_score(y_test, y_pred))\n"
   ]
  },
  {
   "cell_type": "code",
   "execution_count": null,
   "id": "c0218bbb-0cad-4554-92a6-80e79e5622b9",
   "metadata": {},
   "outputs": [],
   "source": [
    "import joblib\n",
    "from sklearn.ensemble import RandomForestClassifier\n",
    "joblib.dump(model, 'trained_model.pkl')\n"
   ]
  },
  {
   "cell_type": "code",
   "execution_count": null,
   "id": "027c999c-d727-4125-9b38-fd6c7112f90f",
   "metadata": {},
   "outputs": [],
   "source": [
    "pip install fastapi uvicorn\n"
   ]
  },
  {
   "cell_type": "code",
   "execution_count": null,
   "id": "82299233-bb81-44c7-bcc7-9e200b17e7f7",
   "metadata": {},
   "outputs": [],
   "source": [
    "pip install python-multipart"
   ]
  },
  {
   "cell_type": "code",
   "execution_count": null,
   "id": "2acfa692-8de3-41b1-a53e-1d3f19a33ebb",
   "metadata": {},
   "outputs": [],
   "source": [
    "from fastapi import FastAPI, File, UploadFile\n",
    "import joblib\n",
    "\n",
    "\n",
    "app = FastAPI()\n",
    "model = joblib.load('trained_model.pkl')\n",
    "\n",
    "@app.post(\"/predict/\")\n",
    "async def predict(file: UploadFile):\n",
    "    # Process file and make predictions\n",
    "    return {\"prediction\": \"result\"}\n"
   ]
  },
  {
   "cell_type": "code",
   "execution_count": null,
   "id": "a1bc0afb-03ea-462b-a817-645c35ccef68",
   "metadata": {},
   "outputs": [],
   "source": [
    "!uvicorn main:app --reload\n",
    "\n"
   ]
  },
  {
   "cell_type": "code",
   "execution_count": null,
   "id": "73293ffd-a08a-44e3-9842-f2c232693a1a",
   "metadata": {},
   "outputs": [],
   "source": [
    "# Compute the correlation matrix\n",
    "correlation_matrix = df.corr()\n",
    "\n",
    "# Generate a heatmap\n",
    "plt.figure(figsize=(10, 8))\n",
    "sns.heatmap(correlation_matrix, annot=True, cmap='coolwarm', fmt='.2f')\n",
    "plt.title('Correlation Matrix')\n",
    "plt.show()\n"
   ]
  },
  {
   "cell_type": "code",
   "execution_count": null,
   "id": "91018aa3-3d47-4003-b09b-a1fdf9498889",
   "metadata": {},
   "outputs": [],
   "source": [
    "# Pair plot for selected features\n",
    "from sklearn.model_selection import GridSearchCV\n",
    "sns.pairplot(df[['Age_of_Casualty', 'Age_Band_of_Casualty', 'Casualty_Severity']])\n",
    "plt.show()\n"
   ]
  },
  {
   "cell_type": "code",
   "execution_count": null,
   "id": "51bac882-e285-401b-a467-a706f17332bf",
   "metadata": {},
   "outputs": [],
   "source": [
    "from sklearn.model_selection import GridSearchCV\n",
    "\n",
    "# Define parameter grid\n",
    "param_grid = {\n",
    "    'n_estimators': [50, 100, 200],\n",
    "    'max_depth': [None, 10, 20, 30]\n",
    "}\n",
    "\n",
    "# Initialize GridSearchCV\n",
    "grid_search = GridSearchCV(estimator=model, param_grid=param_grid, cv=5, scoring='accuracy')\n",
    "\n",
    "# Fit GridSearchCV\n",
    "grid_search.fit(X_train, y_train)\n",
    "\n",
    "# Best parameters and best score\n",
    "print('Best parameters:', grid_search.best_params_)\n",
    "print('Best score:', grid_search.best_score_)\n"
   ]
  },
  {
   "cell_type": "code",
   "execution_count": null,
   "id": "178a8566-ce02-48ee-9555-736696ff4739",
   "metadata": {},
   "outputs": [],
   "source": [
    "from sklearn.metrics import classification_report, confusion_matrix\n",
    "\n",
    "# Predict on test set\n",
    "y_pred = grid_search.best_estimator_.predict(X_test)\n",
    "\n",
    "# Classification report\n",
    "print(classification_report(y_test, y_pred))\n",
    "\n",
    "# Confusion matrix\n",
    "plt.figure(figsize=(8, 6))\n",
    "sns.heatmap(confusion_matrix(y_test, y_pred), annot=True, fmt='d', cmap='Blues')\n",
    "plt.title('Confusion Matrix')\n",
    "plt.show()\n"
   ]
  },
  {
   "cell_type": "code",
   "execution_count": null,
   "id": "03dae8e3-96dc-4a08-ac44-4a28cf543d84",
   "metadata": {},
   "outputs": [],
   "source": [
    "pip install pandas\n"
   ]
  },
  {
   "cell_type": "code",
   "execution_count": null,
   "id": "13854e41-eaeb-4c4e-a100-393979e44bba",
   "metadata": {},
   "outputs": [],
   "source": [
    "import nest_asyncio\n",
    "import uvicorn\n",
    "from fastapi import FastAPI, File, UploadFile\n",
    "from fastapi.responses import HTMLResponse\n",
    "import joblib\n",
    "import pandas as pd\n",
    "\n",
    "nest_asyncio.apply()\n",
    "\n",
    "app = FastAPI()\n",
    "model = joblib.load('trained_model.pkl')\n",
    "\n",
    "# Replace with the actual columns used for training\n",
    "required_columns = ['Accident_Index', 'feature2', 'feature3']  # Example column names, update as needed\n",
    "\n",
    "@app.get(\"/\", response_class=HTMLResponse)\n",
    "async def read_root():\n",
    "    html_code = \"\"\"\n",
    "    <!DOCTYPE html>\n",
    "    <html lang=\"en\">\n",
    "    <head>\n",
    "        <meta charset=\"UTF-8\">\n",
    "        <meta name=\"viewport\" content=\"width=device-width, initial-scale=1.0\">\n",
    "        <title>Traffic Accident Prediction</title>\n",
    "    </head>\n",
    "    <body>\n",
    "        <h1>Traffic Accident Prediction</h1>\n",
    "        <form action=\"/predict/\" method=\"post\" enctype=\"multipart/form-data\">\n",
    "            <input type=\"file\" name=\"file\" accept=\".csv\">\n",
    "            <button type=\"submit\">Upload and Predict</button>\n",
    "        </form>\n",
    "    </body>\n",
    "    </html>\n",
    "    \"\"\"\n",
    "    return HTMLResponse(content=html_code)\n",
    "\n",
    "@app.post(\"/predict/\")\n",
    "async def predict(file: UploadFile):\n",
    "    try:\n",
    "        df = pd.read_csv(file.file)\n",
    "\n",
    "        # Print columns of the uploaded file\n",
    "        print(\"Uploaded file columns:\", df.columns.tolist())\n",
    "\n",
    "        # Check if all required columns are present and no extra columns are included\n",
    "        missing_columns = [col for col in required_columns if col not in df.columns]\n",
    "        extra_columns = [col for col in df.columns if col not in required_columns]\n",
    "\n",
    "        if missing_columns:\n",
    "            return {\"error\": f\"Uploaded file is missing required columns: {', '.join(missing_columns)}\"}\n",
    "        if extra_columns:\n",
    "            return {\"error\": f\"Uploaded file contains unexpected columns: {', '.join(extra_columns)}\"}\n",
    "\n",
    "        df = df[required_columns]  # Ensure the columns are in the correct order\n",
    "        df.fillna(df.mean(numeric_only=True), inplace=True)\n",
    "\n",
    "        predictions = model.predict(df)\n",
    "        return {\"predictions\": predictions.tolist()}\n",
    "\n",
    "    except pd.errors.EmptyDataError:\n",
    "        return {\"error\": \"Uploaded file is empty.\"}\n",
    "    except pd.errors.ParserError:\n",
    "        return {\"error\": \"Error parsing the CSV file.\"}\n",
    "    except Exception as e:\n",
    "        return {\"error\": str(e)}\n",
    "\n",
    "# Run FastAPI server\n",
    "uvicorn.run(app, host=\"127.0.0.1\", port=8001)\n",
    "\n",
    "\n",
    "\n"
   ]
  },
  {
   "cell_type": "code",
   "execution_count": null,
   "id": "0967e66f-03e9-46b7-955f-3f1797df0a44",
   "metadata": {},
   "outputs": [],
   "source": [
    "!uvicorn Trafic_Accident_Prediction:app --reload\n"
   ]
  }
 ],
 "metadata": {
  "kernelspec": {
   "display_name": "Python 3 (ipykernel)",
   "language": "python",
   "name": "python3"
  },
  "language_info": {
   "codemirror_mode": {
    "name": "ipython",
    "version": 3
   },
   "file_extension": ".py",
   "mimetype": "text/x-python",
   "name": "python",
   "nbconvert_exporter": "python",
   "pygments_lexer": "ipython3",
   "version": "3.12.4"
  }
 },
 "nbformat": 4,
 "nbformat_minor": 5
}
